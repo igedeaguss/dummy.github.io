{
 "cells": [
  {
   "cell_type": "code",
   "execution_count": 2,
   "metadata": {},
   "outputs": [
    {
     "name": "stdout",
     "output_type": "stream",
     "text": [
      "[1, 2, 3, 4, 5]\n",
      "[6, 1, 2, 3, 44, 5]\n"
     ]
    }
   ],
   "source": [
    "himpunanA = list(map(int, input().split(','))) #Single List Input (membuat inputan list dalam satu baris)\n",
    "\n",
    "#Single List Input (membuat inputan list dalam satu baris)\n",
    "himpunanB = list(map(int, input().split(',')))\n",
    "\n",
    "print(himpunanA)\n",
    "print(himpunanB)"
   ]
  },
  {
   "cell_type": "code",
   "execution_count": 28,
   "metadata": {},
   "outputs": [],
   "source": [
    "A = [1,2,3,4,5,6]\n",
    "B = [1,2,3,4,7,8,9,10,6]"
   ]
  },
  {
   "cell_type": "code",
   "execution_count": 76,
   "metadata": {},
   "outputs": [
    {
     "name": "stdout",
     "output_type": "stream",
     "text": [
      "[1, 2, 3, 4, 6]\n",
      "\n",
      "1\n",
      "2\n",
      "3\n",
      "4\n",
      "6\n"
     ]
    }
   ],
   "source": [
    "#operasi irisan\n",
    "\n",
    "#Dengan list comprehension\n",
    "c = [i for i in A if i in B]\n",
    "print(c)\n",
    "print()\n",
    "\n",
    "#Dengan perulangan\n",
    "for i in A:\n",
    "    if i in B:\n",
    "        print(i)\n",
    "\n",
    "#Fungsi\n",
    "def irisan(list1,list2):\n",
    "    c = [i for i in list1 if i in list2]\n",
    "    return c"
   ]
  },
  {
   "cell_type": "code",
   "execution_count": 90,
   "metadata": {},
   "outputs": [
    {
     "name": "stdout",
     "output_type": "stream",
     "text": [
      "[1, 2, 3, 4, 5, 6, 7, 8, 9, 10]\n",
      "[1, 2, 3, 4, 5, 6, 1, 2, 3, 4, 7, 8, 9, 10, 6]\n",
      "\n"
     ]
    }
   ],
   "source": [
    "#Operasi Gabungan\n",
    "c = list(set(A+B))\n",
    "print(c) #hasil operasi gabungan\n",
    "\n",
    "d = A+B\n",
    "print(d)\n",
    "print()\n"
   ]
  },
  {
   "cell_type": "code",
   "execution_count": 103,
   "metadata": {},
   "outputs": [
    {
     "name": "stdout",
     "output_type": "stream",
     "text": [
      "[5]\n",
      "[7, 8, 9, 10]\n"
     ]
    }
   ],
   "source": [
    "#Selisih\n",
    "#A-B\n",
    "A = [1,2,3,4,5,6]\n",
    "B = [1,2,3,4,7,8,9,10,6]\n",
    "selisih = [i for i in A if i not in B]\n",
    "print(selisih)\n",
    "\n",
    "#B-A\n",
    "print([i for i in B if i not in A])"
   ]
  },
  {
   "cell_type": "code",
   "execution_count": 112,
   "metadata": {},
   "outputs": [
    {
     "name": "stdout",
     "output_type": "stream",
     "text": [
      "[5]\n",
      "[7, 8, 9, 10]\n",
      "[1, 2, 3, 4, 5, 6, 7, 8, 9, 10]\n",
      "[1, 2, 3, 4, 6]\n"
     ]
    }
   ],
   "source": [
    "#Operasi himpunan dengan methods dari set\n",
    "\n",
    "#Selisih A-B (Selisih himpunan A dan B merupakan himpunan dari semua anggota A tetapi tidak dimiliki\n",
    "# himpunan B)\n",
    "print(list(set(A).difference(B)))\n",
    "\n",
    "#Selisih B-A (Selisih himpunan B dan A merupakan himpunan dari semua anggota B tetapi tidak dimiliki\n",
    "# himpunan A)\n",
    "print(list(set(B).difference(A)))\n",
    "\n",
    "#Gabungan / union\n",
    "print(list(set(A).union(B)))\n",
    "\n",
    "#Irisan / intersection\n",
    "print(list(set(A).intersection(B)))"
   ]
  }
 ],
 "metadata": {
  "kernelspec": {
   "display_name": "Python 3",
   "language": "python",
   "name": "python3"
  },
  "language_info": {
   "codemirror_mode": {
    "name": "ipython",
    "version": 3
   },
   "file_extension": ".py",
   "mimetype": "text/x-python",
   "name": "python",
   "nbconvert_exporter": "python",
   "pygments_lexer": "ipython3",
   "version": "3.9.2 (tags/v3.9.2:1a79785, Feb 19 2021, 13:44:55) [MSC v.1928 64 bit (AMD64)]"
  },
  "orig_nbformat": 4,
  "vscode": {
   "interpreter": {
    "hash": "29d37a6fad4064aa9ea9626b8ba056e50393793323446aa7234e1205d37c4fe5"
   }
  }
 },
 "nbformat": 4,
 "nbformat_minor": 2
}
